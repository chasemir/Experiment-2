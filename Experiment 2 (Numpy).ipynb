{
 "cells": [
  {
   "cell_type": "code",
   "execution_count": 2,
   "id": "eb521cbc-19be-4dc8-96f8-a12e2614e17c",
   "metadata": {},
   "outputs": [],
   "source": [
    "import numpy as np"
   ]
  },
  {
   "cell_type": "code",
   "execution_count": 15,
   "id": "bfdcf73a-4678-4965-947d-ad0b822e9fff",
   "metadata": {},
   "outputs": [
    {
     "name": "stdout",
     "output_type": "stream",
     "text": [
      "Normal Array: \n",
      "[[0.02258102 0.88337216 0.24190584 0.72133667 0.84470264]\n",
      " [0.12839019 0.14634365 0.65411972 0.17320133 0.03465417]\n",
      " [0.02165419 0.28952841 0.23573524 0.14682549 0.83693391]\n",
      " [0.85848477 0.7995758  0.47813364 0.52297896 0.6989623 ]\n",
      " [0.36240732 0.7266168  0.83768366 0.57232145 0.73713024]]\n",
      "\n",
      "Normalized Array: \n"
     ]
    },
    {
     "data": {
      "text/plain": [
       "array([[-1.50667352,  1.33471871, -0.78270248,  0.79985448,  1.20707418],\n",
       "       [-1.1574072 , -1.09814448,  0.57797754, -1.00948974, -1.46682115],\n",
       "       [-1.50973289, -0.62550478, -0.80307108, -1.09655396,  1.1814303 ],\n",
       "       [ 1.25256772,  1.05811465, -0.00293629,  0.14509397,  0.72599875],\n",
       "       [-0.38493821,  0.81728369,  1.18390519,  0.30796898,  0.85198761]])"
      ]
     },
     "execution_count": 15,
     "metadata": {},
     "output_type": "execute_result"
    }
   ],
   "source": [
    "# Create a random 5x5 array stores in X variable \n",
    "X = np.random.rand(5,5)\n",
    "\n",
    "# Print the original array\n",
    "print(\"Normal Array: \")\n",
    "print(X)\n",
    "\n",
    "# Normalize the array using given formula\n",
    "def normalize(ar):\n",
    "    mean = np.mean(ar)\n",
    "    Normalize_X = (ar - mean) / np.std(ar)\n",
    "    return Normalize_X\n",
    "\n",
    "# Save and load the new array \n",
    "np.save('X_normalized.npy', normalize(X))\n",
    "print('\\nNormalized Array: ')\n",
    "np.load('X_normalized.npy')"
   ]
  },
  {
   "cell_type": "code",
   "execution_count": 19,
   "id": "b67976c7-9e25-49be-93f7-4590abf87a05",
   "metadata": {},
   "outputs": [
    {
     "data": {
      "text/plain": [
       "array([   9,   36,   81,  144,  225,  324,  441,  576,  729,  900, 1089,\n",
       "       1296, 1521, 1764, 2025, 2304, 2601, 2916, 3249, 3600, 3969, 4356,\n",
       "       4761, 5184, 5625, 6084, 6561, 7056, 7569, 8100, 8649, 9216, 9801])"
      ]
     },
     "execution_count": 19,
     "metadata": {},
     "output_type": "execute_result"
    }
   ],
   "source": [
    "# Create a 10x10 array of the squares of the first 100 positive integers\n",
    "X = np.arange(1, 101)**2\n",
    "X = X.reshape((10, 10))\n",
    "\n",
    "# Find elements divisible by 3\n",
    "divisible = X[X % 3 == 0]\n",
    "\n",
    "#Save and load the array\n",
    "np.save('div_by_3.npy', divisible)\n",
    "np.load('div_by_3.npy')"
   ]
  }
 ],
 "metadata": {
  "kernelspec": {
   "display_name": "Python 3 (ipykernel)",
   "language": "python",
   "name": "python3"
  },
  "language_info": {
   "codemirror_mode": {
    "name": "ipython",
    "version": 3
   },
   "file_extension": ".py",
   "mimetype": "text/x-python",
   "name": "python",
   "nbconvert_exporter": "python",
   "pygments_lexer": "ipython3",
   "version": "3.12.4"
  }
 },
 "nbformat": 4,
 "nbformat_minor": 5
}
